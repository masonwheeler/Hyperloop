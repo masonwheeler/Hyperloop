{
 "metadata": {
  "name": ""
 },
 "nbformat": 3,
 "nbformat_minor": 0,
 "worksheets": [
  {
   "cells": [
    {
     "cell_type": "code",
     "collapsed": false,
     "input": [
      "ls"
     ],
     "language": "python",
     "metadata": {},
     "outputs": [
      {
       "output_type": "stream",
       "stream": "stdout",
       "text": [
        "build_pylons.py  elevation.py         main.py           sample_graphs.pyc\r\n",
        "\u001b[0m\u001b[01;34mcache\u001b[0m/           elevation.pyc        mergetree.py      \u001b[01;34msave\u001b[0m/\r\n",
        "cacher.py        genVelocity.py       mergetree.pyc     spatialinterpolation.py\r\n",
        "cacher.pyc       geotiff.py           \u001b[01;34mnlcd\u001b[0m/             tube.py\r\n",
        "clothoid.py      geotiff.pyc          paretofront.py    \u001b[01;34musgs\u001b[0m/\r\n",
        "comfort.py       Graph.ipynb          paretofront.pyc   usgs.py\r\n",
        "computev2.py     graphs.py            paths.py          usgs.pyc\r\n",
        "config.py        graphs.pyc           proj.py           util.py\r\n",
        "config.pyc       interpolate.py       proj.pyc          util.pyc\r\n",
        "core.py          interpolate.pyc      pylons.py         velocitygraph.py\r\n",
        "core.pyc         landcost_overlay.py  pylons.pyc        velocityprofile.py\r\n",
        "directions.py    landcover.py         quintic.py        velocityprofile.pyc\r\n",
        "directions.pyc   landcover.pyc        reparametrize.py  visualize.py\r\n",
        "edges.py         lattice.py           routes.py         visualize.pyc\r\n",
        "edges.pyc        lattice.pyc          sample_graphs.py\r\n"
       ]
      }
     ],
     "prompt_number": 1
    },
    {
     "cell_type": "code",
     "collapsed": false,
     "input": [
      "%matplotlib inline\n",
      "import mpld3\n",
      "mpld3.enable_notebook()"
     ],
     "language": "python",
     "metadata": {},
     "outputs": [],
     "prompt_number": 2
    },
    {
     "cell_type": "code",
     "collapsed": false,
     "input": [
      "%run main.py"
     ],
     "language": "python",
     "metadata": {},
     "outputs": [
      {
       "output_type": "stream",
       "stream": "stdout",
       "text": [
        "directions exists.\n",
        "Loaded directions\n",
        "spline exists."
       ]
      },
      {
       "output_type": "stream",
       "stream": "stdout",
       "text": [
        "\n",
        "Loaded spline"
       ]
      },
      {
       "output_type": "stream",
       "stream": "stdout",
       "text": [
        "\n",
        "lattice exists.\n",
        "Loaded lattice\n",
        "Building the lattice took 0.532656908035 seconds.\n",
        "edgessets exists.\n",
        "Loaded edgessets\n",
        "Computing graphs...\n",
        "On layer 1\n",
        "On layer 2\n",
        "On layer 3"
       ]
      },
      {
       "output_type": "stream",
       "stream": "stdout",
       "text": [
        "\n",
        "On layer 4"
       ]
      },
      {
       "output_type": "stream",
       "stream": "stdout",
       "text": [
        "\n",
        "graphs computed."
       ]
      },
      {
       "output_type": "stream",
       "stream": "stdout",
       "text": [
        "\n",
        "Building the graphs took 3.98060512543 seconds.\n"
       ]
      },
      {
       "html": [
        "\n",
        "\n",
        "<style>\n",
        "\n",
        "</style>\n",
        "\n",
        "<div id=\"fig_el10172140233702647824322434513\"></div>\n",
        "<script>\n",
        "function mpld3_load_lib(url, callback){\n",
        "  var s = document.createElement('script');\n",
        "  s.src = url;\n",
        "  s.async = true;\n",
        "  s.onreadystatechange = s.onload = callback;\n",
        "  s.onerror = function(){console.warn(\"failed to load library \" + url);};\n",
        "  document.getElementsByTagName(\"head\")[0].appendChild(s);\n",
        "}\n",
        "\n",
        "if(typeof(mpld3) !== \"undefined\" && mpld3._mpld3IsLoaded){\n",
        "   // already loaded: just create the figure\n",
        "   !function(mpld3){\n",
        "       \n",
        "       mpld3.draw_figure(\"fig_el10172140233702647824322434513\", {\"axes\": [{\"xlim\": [700000000.0, 840000000.0], \"yscale\": \"linear\", \"axesbg\": \"#FFFFFF\", \"texts\": [], \"zoomable\": true, \"images\": [], \"xdomain\": [700000000.0, 840000000.0], \"ylim\": [400000.0, 1000000.0], \"paths\": [], \"sharey\": [], \"sharex\": [], \"axesbgalpha\": null, \"axes\": [{\"scale\": \"linear\", \"tickformat\": null, \"grid\": {\"gridOn\": false}, \"fontsize\": 10.0, \"position\": \"bottom\", \"nticks\": 8, \"tickvalues\": null}, {\"scale\": \"linear\", \"tickformat\": null, \"grid\": {\"gridOn\": false}, \"fontsize\": 10.0, \"position\": \"left\", \"nticks\": 7, \"tickvalues\": null}], \"lines\": [], \"markers\": [], \"id\": \"el10172140233702649296\", \"ydomain\": [400000.0, 1000000.0], \"collections\": [{\"paths\": [[[[0.0, -0.5], [0.13260155, -0.5], [0.25978993539242673, -0.44731684579412084], [0.3535533905932738, -0.3535533905932738], [0.44731684579412084, -0.25978993539242673], [0.5, -0.13260155], [0.5, 0.0], [0.5, 0.13260155], [0.44731684579412084, 0.25978993539242673], [0.3535533905932738, 0.3535533905932738], [0.25978993539242673, 0.44731684579412084], [0.13260155, 0.5], [0.0, 0.5], [-0.13260155, 0.5], [-0.25978993539242673, 0.44731684579412084], [-0.3535533905932738, 0.3535533905932738], [-0.44731684579412084, 0.25978993539242673], [-0.5, 0.13260155], [-0.5, 0.0], [-0.5, -0.13260155], [-0.44731684579412084, -0.25978993539242673], [-0.3535533905932738, -0.3535533905932738], [-0.25978993539242673, -0.44731684579412084], [-0.13260155, -0.5], [0.0, -0.5]], [\"M\", \"C\", \"C\", \"C\", \"C\", \"C\", \"C\", \"C\", \"C\", \"Z\"]]], \"edgecolors\": [\"#000000\"], \"edgewidths\": [1.0], \"offsets\": \"data01\", \"yindex\": 1, \"id\": \"el10172140233422076816\", \"pathtransforms\": [[4.969039949999533, 0.0, 0.0, 4.969039949999533, 0.0, 0.0]], \"pathcoordinates\": \"display\", \"offsetcoordinates\": \"data\", \"zorder\": 1, \"xindex\": 0, \"alphas\": [null], \"facecolors\": [\"#0000FF\"]}], \"xscale\": \"linear\", \"bbox\": [0.125, 0.125, 0.77500000000000002, 0.77500000000000002]}], \"height\": 320.0, \"width\": 480.0, \"plugins\": [{\"type\": \"reset\"}, {\"enabled\": false, \"button\": true, \"type\": \"zoom\"}, {\"enabled\": false, \"button\": true, \"type\": \"boxzoom\"}], \"data\": {\"data01\": [[761214593.4204102, 719887.6536038839], [749848785.4919434, 544115.8168457557], [780430722.064209, 844084.1105125889], [761276909.8388672, 783495.3057061627], [733693795.3369141, 633001.1005664155], [757531975.7629395, 810200.2366111884], [735567716.6381836, 597197.9469329463], [757411853.9855957, 696539.8917340004], [826115517.1691895, 938122.3990934038], [718262232.8186035, 761023.0399675617], [737052900.3051758, 598320.9593088389], [724707064.5507812, 779857.6875364758], [786623452.4658203, 842171.3195955714], [812359718.2739258, 882902.692659715], [795532229.9499512, 912758.8431906232], [749968907.2692871, 748882.6499753043], [757411853.9855957, 696539.8917340004], [754601528.9428711, 751066.6285484302], [741256863.8305664, 607387.2611093323], [732039145.2270508, 647305.7239285428], [759475682.0556641, 726672.7513114221], [754791435.7116699, 797834.3264131383], [760290676.1352539, 838764.9477997641], [757531975.7629395, 810200.2366111884], [750748750.4577637, 751011.873240877], [744869696.496582, 601461.8437284861], [765257883.8500977, 811701.7784992558], [778556800.7629395, 873326.5964929722], [751722706.7932129, 515540.96748835006], [742537940.1855469, 658777.2626716986], [733693795.3369141, 633001.1005664155], [751839920.0439453, 684439.9283889427], [752727607.6416016, 771519.2063544993], [738926821.6064453, 560299.2812194916], [728066169.519043, 752162.7115228304], [776433785.0097656, 802918.586141064], [814186938.3483887, 971937.9609761061], [748418708.2336426, 664384.726645368]]}, \"id\": \"el10172140233702647824\"});\n",
        "   }(mpld3);\n",
        "}else if(typeof define === \"function\" && define.amd){\n",
        "   // require.js is available: use it to load d3/mpld3\n",
        "   require.config({paths: {d3: \"https://mpld3.github.io/js/d3.v3.min\"}});\n",
        "   require([\"d3\"], function(d3){\n",
        "      window.d3 = d3;\n",
        "      mpld3_load_lib(\"https://mpld3.github.io/js/mpld3.v0.2.js\", function(){\n",
        "         \n",
        "         mpld3.draw_figure(\"fig_el10172140233702647824322434513\", {\"axes\": [{\"xlim\": [700000000.0, 840000000.0], \"yscale\": \"linear\", \"axesbg\": \"#FFFFFF\", \"texts\": [], \"zoomable\": true, \"images\": [], \"xdomain\": [700000000.0, 840000000.0], \"ylim\": [400000.0, 1000000.0], \"paths\": [], \"sharey\": [], \"sharex\": [], \"axesbgalpha\": null, \"axes\": [{\"scale\": \"linear\", \"tickformat\": null, \"grid\": {\"gridOn\": false}, \"fontsize\": 10.0, \"position\": \"bottom\", \"nticks\": 8, \"tickvalues\": null}, {\"scale\": \"linear\", \"tickformat\": null, \"grid\": {\"gridOn\": false}, \"fontsize\": 10.0, \"position\": \"left\", \"nticks\": 7, \"tickvalues\": null}], \"lines\": [], \"markers\": [], \"id\": \"el10172140233702649296\", \"ydomain\": [400000.0, 1000000.0], \"collections\": [{\"paths\": [[[[0.0, -0.5], [0.13260155, -0.5], [0.25978993539242673, -0.44731684579412084], [0.3535533905932738, -0.3535533905932738], [0.44731684579412084, -0.25978993539242673], [0.5, -0.13260155], [0.5, 0.0], [0.5, 0.13260155], [0.44731684579412084, 0.25978993539242673], [0.3535533905932738, 0.3535533905932738], [0.25978993539242673, 0.44731684579412084], [0.13260155, 0.5], [0.0, 0.5], [-0.13260155, 0.5], [-0.25978993539242673, 0.44731684579412084], [-0.3535533905932738, 0.3535533905932738], [-0.44731684579412084, 0.25978993539242673], [-0.5, 0.13260155], [-0.5, 0.0], [-0.5, -0.13260155], [-0.44731684579412084, -0.25978993539242673], [-0.3535533905932738, -0.3535533905932738], [-0.25978993539242673, -0.44731684579412084], [-0.13260155, -0.5], [0.0, -0.5]], [\"M\", \"C\", \"C\", \"C\", \"C\", \"C\", \"C\", \"C\", \"C\", \"Z\"]]], \"edgecolors\": [\"#000000\"], \"edgewidths\": [1.0], \"offsets\": \"data01\", \"yindex\": 1, \"id\": \"el10172140233422076816\", \"pathtransforms\": [[4.969039949999533, 0.0, 0.0, 4.969039949999533, 0.0, 0.0]], \"pathcoordinates\": \"display\", \"offsetcoordinates\": \"data\", \"zorder\": 1, \"xindex\": 0, \"alphas\": [null], \"facecolors\": [\"#0000FF\"]}], \"xscale\": \"linear\", \"bbox\": [0.125, 0.125, 0.77500000000000002, 0.77500000000000002]}], \"height\": 320.0, \"width\": 480.0, \"plugins\": [{\"type\": \"reset\"}, {\"enabled\": false, \"button\": true, \"type\": \"zoom\"}, {\"enabled\": false, \"button\": true, \"type\": \"boxzoom\"}], \"data\": {\"data01\": [[761214593.4204102, 719887.6536038839], [749848785.4919434, 544115.8168457557], [780430722.064209, 844084.1105125889], [761276909.8388672, 783495.3057061627], [733693795.3369141, 633001.1005664155], [757531975.7629395, 810200.2366111884], [735567716.6381836, 597197.9469329463], [757411853.9855957, 696539.8917340004], [826115517.1691895, 938122.3990934038], [718262232.8186035, 761023.0399675617], [737052900.3051758, 598320.9593088389], [724707064.5507812, 779857.6875364758], [786623452.4658203, 842171.3195955714], [812359718.2739258, 882902.692659715], [795532229.9499512, 912758.8431906232], [749968907.2692871, 748882.6499753043], [757411853.9855957, 696539.8917340004], [754601528.9428711, 751066.6285484302], [741256863.8305664, 607387.2611093323], [732039145.2270508, 647305.7239285428], [759475682.0556641, 726672.7513114221], [754791435.7116699, 797834.3264131383], [760290676.1352539, 838764.9477997641], [757531975.7629395, 810200.2366111884], [750748750.4577637, 751011.873240877], [744869696.496582, 601461.8437284861], [765257883.8500977, 811701.7784992558], [778556800.7629395, 873326.5964929722], [751722706.7932129, 515540.96748835006], [742537940.1855469, 658777.2626716986], [733693795.3369141, 633001.1005664155], [751839920.0439453, 684439.9283889427], [752727607.6416016, 771519.2063544993], [738926821.6064453, 560299.2812194916], [728066169.519043, 752162.7115228304], [776433785.0097656, 802918.586141064], [814186938.3483887, 971937.9609761061], [748418708.2336426, 664384.726645368]]}, \"id\": \"el10172140233702647824\"});\n",
        "      });\n",
        "    });\n",
        "}else{\n",
        "    // require.js not available: dynamically load d3 & mpld3\n",
        "    mpld3_load_lib(\"https://mpld3.github.io/js/d3.v3.min.js\", function(){\n",
        "         mpld3_load_lib(\"https://mpld3.github.io/js/mpld3.v0.2.js\", function(){\n",
        "                 \n",
        "                 mpld3.draw_figure(\"fig_el10172140233702647824322434513\", {\"axes\": [{\"xlim\": [700000000.0, 840000000.0], \"yscale\": \"linear\", \"axesbg\": \"#FFFFFF\", \"texts\": [], \"zoomable\": true, \"images\": [], \"xdomain\": [700000000.0, 840000000.0], \"ylim\": [400000.0, 1000000.0], \"paths\": [], \"sharey\": [], \"sharex\": [], \"axesbgalpha\": null, \"axes\": [{\"scale\": \"linear\", \"tickformat\": null, \"grid\": {\"gridOn\": false}, \"fontsize\": 10.0, \"position\": \"bottom\", \"nticks\": 8, \"tickvalues\": null}, {\"scale\": \"linear\", \"tickformat\": null, \"grid\": {\"gridOn\": false}, \"fontsize\": 10.0, \"position\": \"left\", \"nticks\": 7, \"tickvalues\": null}], \"lines\": [], \"markers\": [], \"id\": \"el10172140233702649296\", \"ydomain\": [400000.0, 1000000.0], \"collections\": [{\"paths\": [[[[0.0, -0.5], [0.13260155, -0.5], [0.25978993539242673, -0.44731684579412084], [0.3535533905932738, -0.3535533905932738], [0.44731684579412084, -0.25978993539242673], [0.5, -0.13260155], [0.5, 0.0], [0.5, 0.13260155], [0.44731684579412084, 0.25978993539242673], [0.3535533905932738, 0.3535533905932738], [0.25978993539242673, 0.44731684579412084], [0.13260155, 0.5], [0.0, 0.5], [-0.13260155, 0.5], [-0.25978993539242673, 0.44731684579412084], [-0.3535533905932738, 0.3535533905932738], [-0.44731684579412084, 0.25978993539242673], [-0.5, 0.13260155], [-0.5, 0.0], [-0.5, -0.13260155], [-0.44731684579412084, -0.25978993539242673], [-0.3535533905932738, -0.3535533905932738], [-0.25978993539242673, -0.44731684579412084], [-0.13260155, -0.5], [0.0, -0.5]], [\"M\", \"C\", \"C\", \"C\", \"C\", \"C\", \"C\", \"C\", \"C\", \"Z\"]]], \"edgecolors\": [\"#000000\"], \"edgewidths\": [1.0], \"offsets\": \"data01\", \"yindex\": 1, \"id\": \"el10172140233422076816\", \"pathtransforms\": [[4.969039949999533, 0.0, 0.0, 4.969039949999533, 0.0, 0.0]], \"pathcoordinates\": \"display\", \"offsetcoordinates\": \"data\", \"zorder\": 1, \"xindex\": 0, \"alphas\": [null], \"facecolors\": [\"#0000FF\"]}], \"xscale\": \"linear\", \"bbox\": [0.125, 0.125, 0.77500000000000002, 0.77500000000000002]}], \"height\": 320.0, \"width\": 480.0, \"plugins\": [{\"type\": \"reset\"}, {\"enabled\": false, \"button\": true, \"type\": \"zoom\"}, {\"enabled\": false, \"button\": true, \"type\": \"boxzoom\"}], \"data\": {\"data01\": [[761214593.4204102, 719887.6536038839], [749848785.4919434, 544115.8168457557], [780430722.064209, 844084.1105125889], [761276909.8388672, 783495.3057061627], [733693795.3369141, 633001.1005664155], [757531975.7629395, 810200.2366111884], [735567716.6381836, 597197.9469329463], [757411853.9855957, 696539.8917340004], [826115517.1691895, 938122.3990934038], [718262232.8186035, 761023.0399675617], [737052900.3051758, 598320.9593088389], [724707064.5507812, 779857.6875364758], [786623452.4658203, 842171.3195955714], [812359718.2739258, 882902.692659715], [795532229.9499512, 912758.8431906232], [749968907.2692871, 748882.6499753043], [757411853.9855957, 696539.8917340004], [754601528.9428711, 751066.6285484302], [741256863.8305664, 607387.2611093323], [732039145.2270508, 647305.7239285428], [759475682.0556641, 726672.7513114221], [754791435.7116699, 797834.3264131383], [760290676.1352539, 838764.9477997641], [757531975.7629395, 810200.2366111884], [750748750.4577637, 751011.873240877], [744869696.496582, 601461.8437284861], [765257883.8500977, 811701.7784992558], [778556800.7629395, 873326.5964929722], [751722706.7932129, 515540.96748835006], [742537940.1855469, 658777.2626716986], [733693795.3369141, 633001.1005664155], [751839920.0439453, 684439.9283889427], [752727607.6416016, 771519.2063544993], [738926821.6064453, 560299.2812194916], [728066169.519043, 752162.7115228304], [776433785.0097656, 802918.586141064], [814186938.3483887, 971937.9609761061], [748418708.2336426, 664384.726645368]]}, \"id\": \"el10172140233702647824\"});\n",
        "            })\n",
        "         });\n",
        "}\n",
        "</script>"
       ],
       "metadata": {},
       "output_type": "display_data",
       "png": "[encoded data removed]",
       "text": [
        "<matplotlib.figure.Figure at 0x7f8ab4082810>"
       ]
      },
      {
       "output_type": "stream",
       "stream": "stdout",
       "text": [
        "Analysis of this city pair took 4.74579596519 seconds.\n"
       ]
      }
     ],
     "prompt_number": 3
    },
    {
     "cell_type": "code",
     "collapsed": false,
     "input": [],
     "language": "python",
     "metadata": {},
     "outputs": []
    }
   ],
   "metadata": {}
  }
 ]
}